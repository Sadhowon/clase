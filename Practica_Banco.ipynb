{
  "nbformat": 4,
  "nbformat_minor": 0,
  "metadata": {
    "colab": {
      "provenance": [],
      "authorship_tag": "ABX9TyOTT/wLTTL0a4j4cK9hbnYn",
      "include_colab_link": true
    },
    "kernelspec": {
      "name": "python3",
      "display_name": "Python 3"
    },
    "language_info": {
      "name": "python"
    }
  },
  "cells": [
    {
      "cell_type": "markdown",
      "metadata": {
        "id": "view-in-github",
        "colab_type": "text"
      },
      "source": [
        "<a href=\"https://colab.research.google.com/github/Sadhowon/clase/blob/main/Practica_Banco.ipynb\" target=\"_parent\"><img src=\"https://colab.research.google.com/assets/colab-badge.svg\" alt=\"Open In Colab\"/></a>"
      ]
    },
    {
      "cell_type": "code",
      "execution_count": null,
      "metadata": {
        "id": "ER4JKt7_6PXX"
      },
      "outputs": [],
      "source": []
    },
    {
      "cell_type": "markdown",
      "source": [
        "# 1) Descargar base de datos\n"
      ],
      "metadata": {
        "id": "OsCByjYn7EeQ"
      }
    },
    {
      "cell_type": "code",
      "source": [
        "!gdown 1puf9UBuzaVqMW3ZMMXhd626E5yVJd_QX"
      ],
      "metadata": {
        "colab": {
          "base_uri": "https://localhost:8080/"
        },
        "id": "6tvfkz_T7ZJ5",
        "outputId": "97700853-a252-4b1c-af50-16e123418f67"
      },
      "execution_count": 10,
      "outputs": [
        {
          "output_type": "stream",
          "name": "stdout",
          "text": [
            "Downloading...\n",
            "From: https://drive.google.com/uc?id=1puf9UBuzaVqMW3ZMMXhd626E5yVJd_QX\n",
            "To: /content/data_berka.db\n",
            "100% 70.2M/70.2M [00:00<00:00, 151MB/s]\n"
          ]
        }
      ]
    },
    {
      "cell_type": "markdown",
      "source": [
        "1.1) Cargamos la extension sql(nos permite ejecutar comandos sql directamente en colab)"
      ],
      "metadata": {
        "id": "0s3u1EBw8DuS"
      }
    },
    {
      "cell_type": "code",
      "source": [
        "%config SqlMagic.style = '_DEPRECATED_DEFAULT'\n",
        "%load_ext sql"
      ],
      "metadata": {
        "colab": {
          "base_uri": "https://localhost:8080/"
        },
        "id": "QbihAHoY8SLS",
        "outputId": "444273c9-82cc-43ad-dad8-105dff844fe6"
      },
      "execution_count": 21,
      "outputs": [
        {
          "output_type": "stream",
          "name": "stdout",
          "text": [
            "The sql extension is already loaded. To reload it, use:\n",
            "  %reload_ext sql\n"
          ]
        }
      ]
    },
    {
      "cell_type": "markdown",
      "source": [
        "1.2) Conectar a la Base de datos"
      ],
      "metadata": {
        "id": "e-tKhVi38cYx"
      }
    },
    {
      "cell_type": "code",
      "source": [
        "%sql sqlite:///data_berka.db"
      ],
      "metadata": {
        "id": "hMmBr_RL8jCJ"
      },
      "execution_count": 8,
      "outputs": []
    },
    {
      "cell_type": "markdown",
      "source": [
        "1.3) Comprobamos el esquema de la BBDD\n",
        "Para ejecutar comandos sql, se debe añadir \"%sql comando\" o en multiples lineas \"%%sql\n",
        "\"comando_linea1\n",
        "comando_linea2\""
      ],
      "metadata": {
        "id": "iu0Y-v488xao"
      }
    },
    {
      "cell_type": "code",
      "source": [
        "%%sql\n",
        "SELECT name, type\n",
        "FROM sqlite_master\n",
        "WHERE type = \"table\""
      ],
      "metadata": {
        "colab": {
          "base_uri": "https://localhost:8080/",
          "height": 246
        },
        "id": "lngZCAf68-jY",
        "outputId": "871aafd8-d077-4b05-9b73-ce459c1cc3ed"
      },
      "execution_count": 23,
      "outputs": [
        {
          "output_type": "stream",
          "name": "stdout",
          "text": [
            " * sqlite:///data_berka.db\n",
            "Done.\n"
          ]
        },
        {
          "output_type": "execute_result",
          "data": {
            "text/plain": [
              "[('DISTRICT', 'table'),\n",
              " ('ACCOUNT', 'table'),\n",
              " ('TRANS', 'table'),\n",
              " ('CLIENT', 'table'),\n",
              " ('DISPOSITION', 'table'),\n",
              " ('CREDIT_CARD', 'table'),\n",
              " ('LOAN', 'table'),\n",
              " ('PERMANENT_ORDER', 'table')]"
            ],
            "text/html": [
              "<table>\n",
              "    <thead>\n",
              "        <tr>\n",
              "            <th>name</th>\n",
              "            <th>type</th>\n",
              "        </tr>\n",
              "    </thead>\n",
              "    <tbody>\n",
              "        <tr>\n",
              "            <td>DISTRICT</td>\n",
              "            <td>table</td>\n",
              "        </tr>\n",
              "        <tr>\n",
              "            <td>ACCOUNT</td>\n",
              "            <td>table</td>\n",
              "        </tr>\n",
              "        <tr>\n",
              "            <td>TRANS</td>\n",
              "            <td>table</td>\n",
              "        </tr>\n",
              "        <tr>\n",
              "            <td>CLIENT</td>\n",
              "            <td>table</td>\n",
              "        </tr>\n",
              "        <tr>\n",
              "            <td>DISPOSITION</td>\n",
              "            <td>table</td>\n",
              "        </tr>\n",
              "        <tr>\n",
              "            <td>CREDIT_CARD</td>\n",
              "            <td>table</td>\n",
              "        </tr>\n",
              "        <tr>\n",
              "            <td>LOAN</td>\n",
              "            <td>table</td>\n",
              "        </tr>\n",
              "        <tr>\n",
              "            <td>PERMANENT_ORDER</td>\n",
              "            <td>table</td>\n",
              "        </tr>\n",
              "    </tbody>\n",
              "</table>"
            ]
          },
          "metadata": {},
          "execution_count": 23
        }
      ]
    },
    {
      "cell_type": "markdown",
      "source": [
        "# 2) Ejercicicos"
      ],
      "metadata": {
        "id": "og-rU8M4Aph5"
      }
    },
    {
      "cell_type": "markdown",
      "source": [
        "2.1) Muestre los datos de la tabla cliente"
      ],
      "metadata": {
        "id": "N0ciVY88A25C"
      }
    },
    {
      "cell_type": "code",
      "source": [
        "%sql SELECT * FROM CLIENT LIMIT 5"
      ],
      "metadata": {
        "colab": {
          "base_uri": "https://localhost:8080/",
          "height": 182
        },
        "id": "34LA-rzJA8xx",
        "outputId": "4278b838-c5f0-492f-b92b-1c15d1278b1a"
      },
      "execution_count": 24,
      "outputs": [
        {
          "output_type": "stream",
          "name": "stdout",
          "text": [
            " * sqlite:///data_berka.db\n",
            "Done.\n"
          ]
        },
        {
          "output_type": "execute_result",
          "data": {
            "text/plain": [
              "[(1, '706213', 18),\n",
              " (2, '450204', 1),\n",
              " (3, '406009', 1),\n",
              " (4, '561201', 5),\n",
              " (5, '605703', 5)]"
            ],
            "text/html": [
              "<table>\n",
              "    <thead>\n",
              "        <tr>\n",
              "            <th>client_id</th>\n",
              "            <th>birth_number</th>\n",
              "            <th>district_id</th>\n",
              "        </tr>\n",
              "    </thead>\n",
              "    <tbody>\n",
              "        <tr>\n",
              "            <td>1</td>\n",
              "            <td>706213</td>\n",
              "            <td>18</td>\n",
              "        </tr>\n",
              "        <tr>\n",
              "            <td>2</td>\n",
              "            <td>450204</td>\n",
              "            <td>1</td>\n",
              "        </tr>\n",
              "        <tr>\n",
              "            <td>3</td>\n",
              "            <td>406009</td>\n",
              "            <td>1</td>\n",
              "        </tr>\n",
              "        <tr>\n",
              "            <td>4</td>\n",
              "            <td>561201</td>\n",
              "            <td>5</td>\n",
              "        </tr>\n",
              "        <tr>\n",
              "            <td>5</td>\n",
              "            <td>605703</td>\n",
              "            <td>5</td>\n",
              "        </tr>\n",
              "    </tbody>\n",
              "</table>"
            ]
          },
          "metadata": {},
          "execution_count": 24
        }
      ]
    },
    {
      "cell_type": "markdown",
      "source": [
        "2.2) Liste todos los clientes con cuentas activas y prestamos, inluyendo dinero prestado y saldos de cuenta"
      ],
      "metadata": {
        "id": "xtmLs7gVBLTp"
      }
    },
    {
      "cell_type": "code",
      "source": [
        "%%sql\n",
        "SELECT name, type\n",
        "FROM sqlite_master\n",
        "WHERE type = \"table\" #account_id, loan_id y amount"
      ],
      "metadata": {
        "colab": {
          "base_uri": "https://localhost:8080/",
          "height": 246
        },
        "id": "vxDpH2FtCZxy",
        "outputId": "b4cda37c-e582-432c-93ec-bb8607cea122"
      },
      "execution_count": 26,
      "outputs": [
        {
          "output_type": "stream",
          "name": "stdout",
          "text": [
            " * sqlite:///data_berka.db\n",
            "Done.\n"
          ]
        },
        {
          "output_type": "execute_result",
          "data": {
            "text/plain": [
              "[('DISTRICT', 'table'),\n",
              " ('ACCOUNT', 'table'),\n",
              " ('TRANS', 'table'),\n",
              " ('CLIENT', 'table'),\n",
              " ('DISPOSITION', 'table'),\n",
              " ('CREDIT_CARD', 'table'),\n",
              " ('LOAN', 'table'),\n",
              " ('PERMANENT_ORDER', 'table')]"
            ],
            "text/html": [
              "<table>\n",
              "    <thead>\n",
              "        <tr>\n",
              "            <th>name</th>\n",
              "            <th>type</th>\n",
              "        </tr>\n",
              "    </thead>\n",
              "    <tbody>\n",
              "        <tr>\n",
              "            <td>DISTRICT</td>\n",
              "            <td>table</td>\n",
              "        </tr>\n",
              "        <tr>\n",
              "            <td>ACCOUNT</td>\n",
              "            <td>table</td>\n",
              "        </tr>\n",
              "        <tr>\n",
              "            <td>TRANS</td>\n",
              "            <td>table</td>\n",
              "        </tr>\n",
              "        <tr>\n",
              "            <td>CLIENT</td>\n",
              "            <td>table</td>\n",
              "        </tr>\n",
              "        <tr>\n",
              "            <td>DISPOSITION</td>\n",
              "            <td>table</td>\n",
              "        </tr>\n",
              "        <tr>\n",
              "            <td>CREDIT_CARD</td>\n",
              "            <td>table</td>\n",
              "        </tr>\n",
              "        <tr>\n",
              "            <td>LOAN</td>\n",
              "            <td>table</td>\n",
              "        </tr>\n",
              "        <tr>\n",
              "            <td>PERMANENT_ORDER</td>\n",
              "            <td>table</td>\n",
              "        </tr>\n",
              "    </tbody>\n",
              "</table>"
            ]
          },
          "metadata": {},
          "execution_count": 26
        }
      ]
    },
    {
      "cell_type": "code",
      "source": [
        "%%sql\n",
        "select c.client_id as cliente,\n",
        "ROUND(SUM(l.amount), 2) as importe_prestado,\n",
        "ROUND(SUM(CASE\n",
        "  WHEN t.type = 'PRIJEM' THEN t.amount\n",
        "  WHEN t.type = 'VYDAJ' then -t.amount\n",
        "  else 0\n",
        "  end), 2) as balance_cuenta\n",
        "from CLIENT c\n",
        "left join  disposition d on d.client_id = c.client_id\n",
        "left join ACCOUNT a on a.account_id = d.account_id\n",
        "left join loan l on l.account_id = a.account_id\n",
        "left join trans t on t.account_id = a.account_id\n",
        "where d.type = 'OWNER'\n",
        "group by c.client_id\n",
        "limit 5"
      ],
      "metadata": {
        "colab": {
          "base_uri": "https://localhost:8080/",
          "height": 182
        },
        "id": "3m6uDa0ACbFZ",
        "outputId": "d8d8e303-b88a-4364-b48e-bfde693e2cc3"
      },
      "execution_count": 50,
      "outputs": [
        {
          "output_type": "stream",
          "name": "stdout",
          "text": [
            " * sqlite:///data_berka.db\n",
            "Done.\n"
          ]
        },
        {
          "output_type": "execute_result",
          "data": {
            "text/plain": [
              "[(1, None, 13466.5),\n",
              " (2, 38695056.0, 260069.7),\n",
              " (4, None, 51096.2),\n",
              " (6, None, 33720.6),\n",
              " (7, None, 28088.6)]"
            ],
            "text/html": [
              "<table>\n",
              "    <thead>\n",
              "        <tr>\n",
              "            <th>cliente</th>\n",
              "            <th>importe_prestado</th>\n",
              "            <th>balance_cuenta</th>\n",
              "        </tr>\n",
              "    </thead>\n",
              "    <tbody>\n",
              "        <tr>\n",
              "            <td>1</td>\n",
              "            <td>None</td>\n",
              "            <td>13466.5</td>\n",
              "        </tr>\n",
              "        <tr>\n",
              "            <td>2</td>\n",
              "            <td>38695056.0</td>\n",
              "            <td>260069.7</td>\n",
              "        </tr>\n",
              "        <tr>\n",
              "            <td>4</td>\n",
              "            <td>None</td>\n",
              "            <td>51096.2</td>\n",
              "        </tr>\n",
              "        <tr>\n",
              "            <td>6</td>\n",
              "            <td>None</td>\n",
              "            <td>33720.6</td>\n",
              "        </tr>\n",
              "        <tr>\n",
              "            <td>7</td>\n",
              "            <td>None</td>\n",
              "            <td>28088.6</td>\n",
              "        </tr>\n",
              "    </tbody>\n",
              "</table>"
            ]
          },
          "metadata": {},
          "execution_count": 50
        }
      ]
    },
    {
      "cell_type": "code",
      "source": [
        "%%sql\n",
        "select c.client_id as cliente, COUNT(a.account_id) as total_cuentas\n",
        "from client c\n",
        "left join disposition d on d.client_id = c.client_id\n",
        "left join ACCOUNT a on a.account_id = d.account_id\n",
        "group by c.client_id\n",
        "having total_cuentas > 1"
      ],
      "metadata": {
        "colab": {
          "base_uri": "https://localhost:8080/",
          "height": 75
        },
        "id": "B5CGItyESThm",
        "outputId": "31634457-4933-441a-9547-9d91ed8019e6"
      },
      "execution_count": 58,
      "outputs": [
        {
          "output_type": "stream",
          "name": "stdout",
          "text": [
            " * sqlite:///data_berka.db\n",
            "Done.\n"
          ]
        },
        {
          "output_type": "execute_result",
          "data": {
            "text/plain": [
              "[]"
            ],
            "text/html": [
              "<table>\n",
              "    <thead>\n",
              "        <tr>\n",
              "            <th>cliente</th>\n",
              "            <th>total_cuentas</th>\n",
              "        </tr>\n",
              "    </thead>\n",
              "    <tbody>\n",
              "    </tbody>\n",
              "</table>"
            ]
          },
          "metadata": {},
          "execution_count": 58
        }
      ]
    },
    {
      "cell_type": "code",
      "source": [
        "%%sql\n",
        "SELECT trans_id, date, amount\n",
        "FROM trans\n",
        "where date like '98%'\n",
        "ORDER BY amount DESC\n",
        "LIMIT 10;"
      ],
      "metadata": {
        "colab": {
          "base_uri": "https://localhost:8080/",
          "height": 289
        },
        "id": "u2teq7SRUkfm",
        "outputId": "532c2f3a-01bf-448a-e379-7f8e013bb95f"
      },
      "execution_count": 87,
      "outputs": [
        {
          "output_type": "stream",
          "name": "stdout",
          "text": [
            " * sqlite:///data_berka.db\n",
            "Done.\n"
          ]
        },
        {
          "output_type": "execute_result",
          "data": {
            "text/plain": [
              "[(291346, 981215, 87400.0),\n",
              " (1306770, 980606, 87300.0),\n",
              " (1207200, 980619, 85800.0),\n",
              " (1170721, 980615, 81900.0),\n",
              " (706371, 980610, 80100.0),\n",
              " (141211, 980625, 78300.0),\n",
              " (1155373, 980618, 78000.0),\n",
              " (623347, 980612, 77400.0),\n",
              " (768915, 980620, 77100.0),\n",
              " (816974, 980621, 76800.0)]"
            ],
            "text/html": [
              "<table>\n",
              "    <thead>\n",
              "        <tr>\n",
              "            <th>trans_id</th>\n",
              "            <th>date</th>\n",
              "            <th>amount</th>\n",
              "        </tr>\n",
              "    </thead>\n",
              "    <tbody>\n",
              "        <tr>\n",
              "            <td>291346</td>\n",
              "            <td>981215</td>\n",
              "            <td>87400.0</td>\n",
              "        </tr>\n",
              "        <tr>\n",
              "            <td>1306770</td>\n",
              "            <td>980606</td>\n",
              "            <td>87300.0</td>\n",
              "        </tr>\n",
              "        <tr>\n",
              "            <td>1207200</td>\n",
              "            <td>980619</td>\n",
              "            <td>85800.0</td>\n",
              "        </tr>\n",
              "        <tr>\n",
              "            <td>1170721</td>\n",
              "            <td>980615</td>\n",
              "            <td>81900.0</td>\n",
              "        </tr>\n",
              "        <tr>\n",
              "            <td>706371</td>\n",
              "            <td>980610</td>\n",
              "            <td>80100.0</td>\n",
              "        </tr>\n",
              "        <tr>\n",
              "            <td>141211</td>\n",
              "            <td>980625</td>\n",
              "            <td>78300.0</td>\n",
              "        </tr>\n",
              "        <tr>\n",
              "            <td>1155373</td>\n",
              "            <td>980618</td>\n",
              "            <td>78000.0</td>\n",
              "        </tr>\n",
              "        <tr>\n",
              "            <td>623347</td>\n",
              "            <td>980612</td>\n",
              "            <td>77400.0</td>\n",
              "        </tr>\n",
              "        <tr>\n",
              "            <td>768915</td>\n",
              "            <td>980620</td>\n",
              "            <td>77100.0</td>\n",
              "        </tr>\n",
              "        <tr>\n",
              "            <td>816974</td>\n",
              "            <td>980621</td>\n",
              "            <td>76800.0</td>\n",
              "        </tr>\n",
              "    </tbody>\n",
              "</table>"
            ]
          },
          "metadata": {},
          "execution_count": 87
        }
      ]
    },
    {
      "cell_type": "code",
      "source": [
        "%%sql\n",
        "SELECT\n",
        "  CASE\n",
        "    WHEN t.account_id IN (SELECT account_id FROM loan) THEN 'Con préstamo'\n",
        "    ELSE 'Sin préstamo'\n",
        "  END AS tipo_cuenta,\n",
        "  round(AVG(balance), 2) AS saldo_promedio\n",
        "FROM trans t\n",
        "GROUP BY tipo_cuenta;\n"
      ],
      "metadata": {
        "colab": {
          "base_uri": "https://localhost:8080/",
          "height": 118
        },
        "id": "_MC2vpl7bo0Y",
        "outputId": "bb66a784-bc23-4e25-f0d2-4790831d3222"
      },
      "execution_count": 96,
      "outputs": [
        {
          "output_type": "stream",
          "name": "stdout",
          "text": [
            " * sqlite:///data_berka.db\n",
            "Done.\n"
          ]
        },
        {
          "output_type": "execute_result",
          "data": {
            "text/plain": [
              "[('Con préstamo', 45467.14), ('Sin préstamo', 36979.08)]"
            ],
            "text/html": [
              "<table>\n",
              "    <thead>\n",
              "        <tr>\n",
              "            <th>tipo_cuenta</th>\n",
              "            <th>saldo_promedio</th>\n",
              "        </tr>\n",
              "    </thead>\n",
              "    <tbody>\n",
              "        <tr>\n",
              "            <td>Con préstamo</td>\n",
              "            <td>45467.14</td>\n",
              "        </tr>\n",
              "        <tr>\n",
              "            <td>Sin préstamo</td>\n",
              "            <td>36979.08</td>\n",
              "        </tr>\n",
              "    </tbody>\n",
              "</table>"
            ]
          },
          "metadata": {},
          "execution_count": 96
        }
      ]
    },
    {
      "cell_type": "code",
      "source": [
        "%%sql\n",
        "select c.client_id as cliente\n",
        "from client c\n",
        "left join disposition d on d.client_id = c.client_id\n",
        "left join ACCOUNT a on a.account_id = d.account_id\n",
        "left join trans t on t.account_id = a.account_id\n",
        "left join loan l on l.account_id = a.account_id\n",
        "where t.date like '98%' and l.account_id is null\n",
        "group by c.client_id\n",
        "having COUNT(t.trans_id) > 10\n",
        "limit 10"
      ],
      "metadata": {
        "colab": {
          "base_uri": "https://localhost:8080/",
          "height": 289
        },
        "id": "2a78115TgjSa",
        "outputId": "863f0a58-d25b-405a-c39e-b85bde811e10"
      },
      "execution_count": 112,
      "outputs": [
        {
          "output_type": "stream",
          "name": "stdout",
          "text": [
            " * sqlite:///data_berka.db\n",
            "Done.\n"
          ]
        },
        {
          "output_type": "execute_result",
          "data": {
            "text/plain": [
              "[(1,), (4,), (5,), (6,), (7,), (8,), (9,), (10,), (11,), (12,)]"
            ],
            "text/html": [
              "<table>\n",
              "    <thead>\n",
              "        <tr>\n",
              "            <th>cliente</th>\n",
              "        </tr>\n",
              "    </thead>\n",
              "    <tbody>\n",
              "        <tr>\n",
              "            <td>1</td>\n",
              "        </tr>\n",
              "        <tr>\n",
              "            <td>4</td>\n",
              "        </tr>\n",
              "        <tr>\n",
              "            <td>5</td>\n",
              "        </tr>\n",
              "        <tr>\n",
              "            <td>6</td>\n",
              "        </tr>\n",
              "        <tr>\n",
              "            <td>7</td>\n",
              "        </tr>\n",
              "        <tr>\n",
              "            <td>8</td>\n",
              "        </tr>\n",
              "        <tr>\n",
              "            <td>9</td>\n",
              "        </tr>\n",
              "        <tr>\n",
              "            <td>10</td>\n",
              "        </tr>\n",
              "        <tr>\n",
              "            <td>11</td>\n",
              "        </tr>\n",
              "        <tr>\n",
              "            <td>12</td>\n",
              "        </tr>\n",
              "    </tbody>\n",
              "</table>"
            ]
          },
          "metadata": {},
          "execution_count": 112
        }
      ]
    },
    {
      "cell_type": "code",
      "source": [
        "%%sql\n",
        "WITH Limits AS (\n",
        "    SELECT MAX(TRANS.balance) * 0.5 AS medium_limit FROM TRANS\n",
        "),\n",
        "latest_trans AS (\n",
        "    SELECT account_id, MAX(trans_id) AS max_trans_id\n",
        "    FROM TRANS\n",
        "    GROUP BY account_id\n",
        "),\n",
        "client_balances AS (\n",
        "    SELECT\n",
        "        CLIENT.client_id,\n",
        "        TRANS.account_id,\n",
        "        TRANS.balance AS LAST_BALANCE,\n",
        "        CASE\n",
        "            WHEN TRANS.balance <= 0 THEN 'BAJO'\n",
        "            WHEN TRANS.balance > 0 AND TRANS.balance <= (SELECT medium_limit FROM Limits) THEN 'MEDIO'\n",
        "            WHEN TRANS.balance > (SELECT medium_limit FROM Limits) THEN 'ALTO'\n",
        "            ELSE 'NAN'\n",
        "        END AS CALIDAD_CLIENTE,\n",
        "        LOAN.amount AS importe_prestado\n",
        "    FROM CLIENT\n",
        "    JOIN DISPOSITION ON CLIENT.client_id = DISPOSITION.client_id\n",
        "    JOIN TRANS ON DISPOSITION.account_id = TRANS.account_id\n",
        "    JOIN LOAN ON TRANS.account_id = LOAN.account_id\n",
        "    JOIN latest_trans ON TRANS.account_id = latest_trans.account_id AND TRANS.trans_id = latest_trans.max_trans_id\n",
        ")\n",
        "SELECT\n",
        "    CALIDAD_CLIENTE,\n",
        "    COUNT(DISTINCT client_id) AS num_clientes,\n",
        "    SUM(importe_prestado) AS total_importe_prestado,\n",
        "    ROUND(COUNT(DISTINCT client_id) * 100.0 / SUM(COUNT(DISTINCT client_id)) OVER (), 2) AS proporcion_clientes,\n",
        "    ROUND(SUM(importe_prestado) * 100.0 / SUM(SUM(importe_prestado)) OVER (), 2) AS proporcion_importe_prestado\n",
        "FROM client_balances\n",
        "GROUP BY CALIDAD_CLIENTE\n",
        "ORDER BY CALIDAD_CLIENTE;"
      ],
      "metadata": {
        "colab": {
          "base_uri": "https://localhost:8080/"
        },
        "id": "_p6uIT6Jwsxh",
        "outputId": "b302fec1-e637-4497-b6e4-703c80712927"
      },
      "execution_count": 132,
      "outputs": [
        {
          "output_type": "stream",
          "name": "stdout",
          "text": [
            " * sqlite:///data_berka.db\n",
            "(sqlite3.OperationalError) misuse of aggregate: max()\n",
            "[SQL: with limits as (select max(t.balance)/2 as medium_limit from trans)\n",
            "select \n",
            "  c.client_id,\n",
            "  t.trans_id,\n",
            "  t.balance as last_balance,\n",
            "  case\n",
            "    when max(t.balance) > 0 then 'Bajo'\n",
            "    when max(t.balance) > 0 and max(t.balance) >= (select medium_limit from limits) then 'Medio'\n",
            "    when max(t.balance) > (select medium_limit from limits) then 'Alto'\n",
            "    else 'NAN'\n",
            "  end as calidad_cliente\n",
            "from client c\n",
            "join disposition d on d.client_id = c.client_id\n",
            "join trans t on t.account_id = d.account_id\n",
            "join (\n",
            "    select account_id, max(trans_id) as max_trans_id\n",
            "    from trans\n",
            "    group by account_id\n",
            ") latest_trans on t.account_id = latest_trans.account_id and t.trans_id = latest_trans.max_trans_id\n",
            "group by c.client_id\n",
            "limit 10]\n",
            "(Background on this error at: https://sqlalche.me/e/20/e3q8)\n"
          ]
        }
      ]
    },
    {
      "cell_type": "code",
      "source": [],
      "metadata": {
        "id": "vvjJ9thK8zAN"
      },
      "execution_count": null,
      "outputs": []
    }
  ]
}